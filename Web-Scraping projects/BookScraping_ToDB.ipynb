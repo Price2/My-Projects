{
 "cells": [
  {
   "cell_type": "code",
   "execution_count": null,
   "metadata": {},
   "outputs": [],
   "source": [
    "import sqlite3\n",
    "import requests\n",
    "from bs4 import BeautifulSoup\n",
    "\n",
    "\n",
    "response = requests.get('https://books.toscrape.com/')\n",
    "soup = BeautifulSoup(response.text, 'html.parser')\n",
    "soup"
   ]
  },
  {
   "cell_type": "code",
   "execution_count": 2,
   "metadata": {},
   "outputs": [],
   "source": [
    "rate = {'One':1,\n",
    "    'Two':2,\n",
    "    'Three':3,\n",
    "    'Four':4,\n",
    "    'Five':5}\n",
    "connection = sqlite3.connect('./DB/books.db')\n",
    "for categories in soup.find('ul', attrs={'class':'nav nav-list'}).find('li').find('ul').find_all('a'):\n",
    "    # category = categories.get_text().strip()\n",
    "    link = 'https://books.toscrape.com/' + categories.get('href')\n",
    "    books_response= requests.get(link)\n",
    "    booksSoup = BeautifulSoup(books_response.text, 'html.parser')\n",
    "    query_category= \"SELECT id from Categories WHERE name LIKE ?\"\n",
    "    category_name = [booksSoup.find('div', attrs={'class':'page-header action'}).find('h1').get_text()]\n",
    "    category_id = connection.execute(query_category,category_name).fetchall()[0][0]\n",
    "    for book in booksSoup.find_all('article', attrs={'class':'product_pod'}):\n",
    "        name = book.find('h3').find('a').get('title').strip()\n",
    "        price = book.find('p', attrs={'class':'price_color'}).get_text()[2:]\n",
    "        rating = rate[book.find('p').get('class')[1]]\n",
    "        sql_insert = \"INSERT INTO Books (name, price, rating, category_id) VALUES(?,?,?,?)\"\n",
    "        values = [name, price, rating, category_id]\n",
    "        cursor = connection.execute(sql_insert,values)\n",
    "        connection.commit()\n",
    "    while((booksSoup.find('li', attrs={'class':'next'})) != None):\n",
    "        link =link.rsplit('/', 1)[0] + \"/\" + booksSoup.find('li', attrs={'class':'next'}).find('a').attrs['href']\n",
    "        next_pageresponse= requests.get(link)\n",
    "        booksSoup = BeautifulSoup(next_pageresponse.text, 'html.parser')\n",
    "        for book in booksSoup.find_all('article', attrs={'class':'product_pod'}):\n",
    "            name = book.find('h3').find('a').get('title').strip()\n",
    "            price = book.find('p', attrs={'class':'price_color'}).get_text()[2:]\n",
    "            rating = rate[book.find('p').get('class')[1]]\n",
    "            sql_insert = \"INSERT INTO Books (name, price, rating, category_id) VALUES(?,?,?,?)\"\n",
    "            values = [name, price, rating, category_id]\n",
    "            cursor2 = connection.execute(sql_insert,values)\n",
    "            connection.commit()\n",
    "connection.close()\n",
    "           \n",
    "                    \n",
    "            \n",
    "\n"
   ]
  },
  {
   "cell_type": "code",
   "execution_count": null,
   "metadata": {},
   "outputs": [],
   "source": []
  }
 ],
 "metadata": {
  "interpreter": {
   "hash": "97ae724bfa85b9b34df7982b8bb8c7216f435b92902d749e4263f71162bea840"
  },
  "kernelspec": {
   "display_name": "Python 3.8.8 64-bit ('base': conda)",
   "name": "python3"
  },
  "language_info": {
   "codemirror_mode": {
    "name": "ipython",
    "version": 3
   },
   "file_extension": ".py",
   "mimetype": "text/x-python",
   "name": "python",
   "nbconvert_exporter": "python",
   "pygments_lexer": "ipython3",
   "version": "3.8.8"
  },
  "orig_nbformat": 4
 },
 "nbformat": 4,
 "nbformat_minor": 2
}
