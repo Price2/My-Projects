{
 "cells": [
  {
   "cell_type": "code",
   "execution_count": 161,
   "source": [
    "import os, random, time, math\r\n",
    "def ListofImages():\r\n",
    "    mylist = os.listdir('universe/')\r\n",
    "    print(len(mylist))\r\n",
    "    return print(mylist)"
   ],
   "outputs": [],
   "metadata": {}
  },
  {
   "cell_type": "code",
   "execution_count": 157,
   "source": [
    "import os, random, time, math\r\n",
    "def RemoveHalf():\r\n",
    "    #Listdir, store the director into a list, divide the list by half, shuffle the list (when the function is called everytime, the list will be shuffled to make it random.)\r\n",
    "    mylist = os.listdir('universe/')\r\n",
    "    halfoflist = math.ceil(len(mylist)/2)\r\n",
    "    random.shuffle(mylist)\r\n",
    "    for i in range(0,halfoflist): #Loop from 0 to half of the list(shuffled), \r\n",
    "        if os.path.isfile('universe/' +mylist[i]): #If file exists in the directory then remove\r\n",
    "            os.remove('universe/' +mylist[i])\r\n",
    "            time.sleep(1)\r\n",
    "            print(\"File removed: \"+ mylist[i])\r\n",
    "    print(\"Finished removing files successfully.\")   \r\n",
    "    mylist = os.listdir('universe/')\r\n",
    "\r\n",
    "\r\n",
    "\r\n"
   ],
   "outputs": [],
   "metadata": {}
  },
  {
   "cell_type": "code",
   "execution_count": 154,
   "source": [
    "#Bonus Task\r\n",
    "import shutil, os\r\n",
    "def BackupAndRestore():\r\n",
    "    source = \"backup/\"  # Adding a path to source and path to destination, loop through listdir in the source and copy to destination each file.\r\n",
    "    destination  = 'universe/'\r\n",
    "    for filename in os.listdir(source):\r\n",
    "        shutil.copy(source+filename,destination)\r\n",
    "    print(\"Files restored successfully.\")\r\n"
   ],
   "outputs": [],
   "metadata": {}
  },
  {
   "cell_type": "code",
   "execution_count": 162,
   "source": [
    "ListofImages()"
   ],
   "outputs": [
    {
     "output_type": "stream",
     "name": "stdout",
     "text": [
      "50\n",
      "['cover001.png', 'cover002.png', 'cover003.png', 'cover004.png', 'cover005.png', 'cover006.png', 'cover007.png', 'cover008.png', 'cover009.png', 'cover010.png', 'cover011.png', 'cover012.png', 'cover013.png', 'cover014.png', 'cover015.png', 'cover016.png', 'cover017.png', 'cover018.png', 'cover019.png', 'cover020.png', 'cover021.png', 'cover022.png', 'cover023.png', 'cover024.png', 'cover025.png', 'cover026.png', 'cover027.png', 'cover028.png', 'cover029.png', 'cover030.png', 'cover031.png', 'cover032.png', 'cover033.png', 'cover034.png', 'cover035.png', 'cover036.png', 'cover037.png', 'cover038.png', 'cover039.png', 'cover040.png', 'cover041.png', 'cover042.png', 'cover043.png', 'cover044.png', 'cover045.png', 'cover046.png', 'cover047.png', 'cover048.png', 'cover049.png', 'cover050.png']\n"
     ]
    }
   ],
   "metadata": {}
  },
  {
   "cell_type": "code",
   "execution_count": null,
   "source": [],
   "outputs": [],
   "metadata": {}
  }
 ],
 "metadata": {
  "interpreter": {
   "hash": "ed225720166559e7176d3793db16a2fd8d295f725007103b21ac3099d2a89ee8"
  },
  "kernelspec": {
   "display_name": "Python 3",
   "language": "python",
   "name": "python3"
  },
  "language_info": {
   "codemirror_mode": {
    "name": "ipython",
    "version": 3
   },
   "file_extension": ".py",
   "mimetype": "text/x-python",
   "name": "python",
   "nbconvert_exporter": "python",
   "pygments_lexer": "ipython3",
   "version": "3.7.6"
  }
 },
 "nbformat": 4,
 "nbformat_minor": 2
}